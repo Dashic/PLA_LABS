{
 "cells": [
  {
   "cell_type": "markdown",
   "metadata": {},
   "source": [
    "Импорт библиотек"
   ]
  },
  {
   "cell_type": "code",
   "execution_count": 27,
   "metadata": {},
   "outputs": [],
   "source": [
    "import numpy as np\n",
    "import math\n",
    "from numpy import matrix\n",
    "from numpy import linalg"
   ]
  },
  {
   "cell_type": "markdown",
   "metadata": {},
   "source": [
    "Кодируем алфавит из 32 букв (без буквы \"ё\"). Для этого создаём словарь, в котором каждую букву кодируем пятью битами."
   ]
  },
  {
   "cell_type": "code",
   "execution_count": 28,
   "metadata": {},
   "outputs": [
    {
     "name": "stdout",
     "output_type": "stream",
     "text": [
      "{'а': '00000', 'б': '00001', 'в': '00010', 'г': '00011', 'д': '00100', 'е': '00101', 'ж': '00110', 'з': '00111', 'и': '01000', 'й': '01001', 'к': '01010', 'л': '01011', 'м': '01100', 'н': '01101', 'о': '01110', 'п': '01111', 'р': '10000', 'с': '10001', 'т': '10010', 'у': '10011', 'ф': '10100', 'х': '10101', 'ц': '10110', 'ч': '10111', 'ш': '11000', 'щ': '11001', 'ъ': '11010', 'ы': '11011', 'ь': '11100', 'э': '11101', 'ю': '11110', 'я': '11111'}\n"
     ]
    }
   ],
   "source": [
    "alp = list('абвгдежзийклмнопрстуфхцчшщъыьэюя')\n",
    "alp_cod = {}\n",
    "for i in range(len(alp)):\n",
    "    str_bin = str(bin(i)[2:])\n",
    "    if len(str_bin) != 5:\n",
    "        str_bin = '0' * (5-len(str_bin)) + str_bin\n",
    "    alp_cod[alp[i]] = str_bin\n",
    "    \n",
    "print(alp_cod)"
   ]
  },
  {
   "cell_type": "markdown",
   "metadata": {},
   "source": [
    "Выбираем слово из 4-х букв, которое будем шифровать и получаем список и строку с закодированным словом."
   ]
  },
  {
   "cell_type": "code",
   "execution_count": 29,
   "metadata": {},
   "outputs": [
    {
     "name": "stdout",
     "output_type": "stream",
     "text": [
      "['10001', '01000', '00100', '10000']\n",
      "10001010000010010000\n"
     ]
    }
   ],
   "source": [
    "word = 'сидр'\n",
    "bin_list = [alp_cod[i] for i in word]\n",
    "bin_word = ''.join(bin_list)\n",
    "\n",
    "print(bin_list)\n",
    "print(bin_word)"
   ]
  },
  {
   "cell_type": "markdown",
   "metadata": {},
   "source": [
    "Получаем матрицу 4*5 с нашим закодированным словом, в которой каждый столбец соответствует букве."
   ]
  },
  {
   "cell_type": "code",
   "execution_count": 30,
   "metadata": {},
   "outputs": [
    {
     "name": "stdout",
     "output_type": "stream",
     "text": [
      "[[1 0 0 0 1]\n",
      " [0 1 0 0 0]\n",
      " [0 0 1 0 0]\n",
      " [1 0 0 0 0]]\n"
     ]
    }
   ],
   "source": [
    "data_bits = np.zeros((4, 5), dtype=int)\n",
    "        \n",
    "for i in range(len(bin_word)):\n",
    "    bit_value = int(bin_word[i])\n",
    "    data_bits[i // 5][i % 5] = bit_value\n",
    "    \n",
    "print(data_bits)"
   ]
  },
  {
   "cell_type": "markdown",
   "metadata": {},
   "source": [
    "Создаем функцию кодирования, в которой используем генераторную матрицу G.\n",
    "\n",
    "Первые 4 столбца в матрице G - единичная матрица, отвечающая за информацию.\n",
    "\n",
    "Последние 3 столбца представляют контрольные биты, которые также зависят от информационных битов.\n",
    "\n",
    "Функция возвращает матрицу 7*5, в которой находится наше закодированное слово с проверочными битами."
   ]
  },
  {
   "cell_type": "code",
   "execution_count": 31,
   "metadata": {},
   "outputs": [
    {
     "name": "stdout",
     "output_type": "stream",
     "text": [
      "[[1 0 0 0 1]\n",
      " [0 1 0 0 0]\n",
      " [0 0 1 0 0]\n",
      " [1 0 0 0 0]\n",
      " [0 1 0 0 1]\n",
      " [1 1 1 0 1]\n",
      " [0 0 1 0 1]]\n"
     ]
    }
   ],
   "source": [
    "def encoding(word):\n",
    "    \n",
    "    G = np.array([[1, 0, 0, 0, 1, 1, 1],\n",
    "                  [0, 1, 0, 0, 1, 1, 0],\n",
    "                  [0, 0, 1, 0, 0, 1, 1],\n",
    "                  [0, 0, 0, 1, 1, 0, 1]])\n",
    "        \n",
    "    encoding_M = np.dot(np.transpose(G), data_bits) % 2\n",
    "    \n",
    "    return encoding_M\n",
    "\n",
    "p = encoding(word)\n",
    "\n",
    "print(p)"
   ]
  },
  {
   "cell_type": "markdown",
   "metadata": {},
   "source": [
    "Создаём функцию декодирования с использованием матрицы проверки четности H.\n",
    "\n",
    "Первые 4 столбца будут соответствовать битам данных.\n",
    "\n",
    "Последние 3 столбца будут содержать единичные векторы, которые представляют биты четности.\n",
    "\n",
    "Функция возвращает матрицу 4*5, в которой содержится информация о поврежденных битах."
   ]
  },
  {
   "cell_type": "code",
   "execution_count": 32,
   "metadata": {},
   "outputs": [
    {
     "name": "stdout",
     "output_type": "stream",
     "text": [
      "[[0 0 0 0 0]\n",
      " [0 0 0 0 0]\n",
      " [0 0 0 0 0]]\n"
     ]
    }
   ],
   "source": [
    "def decoding(p):\n",
    "\n",
    "    H = np.array([[1, 1, 0, 1, 1, 0, 0],\n",
    "                  [1, 1, 1, 0, 0, 1, 0],\n",
    "                  [1, 0, 1, 1, 0, 0, 1]])\n",
    "    \n",
    "    decoding_M = np.dot(H, p) % 2\n",
    "\n",
    "    \n",
    "    return decoding_M\n",
    "\n",
    "\n",
    "print(decoding(p))"
   ]
  },
  {
   "cell_type": "markdown",
   "metadata": {},
   "source": [
    "Иммитируем вредоностное вмешательство. Поочередно \"портим\" 1-4 бита. То есть меняем 1 на 0 и наоборот."
   ]
  },
  {
   "cell_type": "code",
   "execution_count": 33,
   "metadata": {},
   "outputs": [],
   "source": [
    "p[0][1] = 0\n",
    "p[3][2] = 1\n",
    "p[2][3] = 0\n",
    "p[5][1] = 1"
   ]
  },
  {
   "cell_type": "markdown",
   "metadata": {},
   "source": [
    "При вредоносном вмешательстве в 1-4 бита в разных буквах, код показывает ошибку. Но если будут испорчены два бита одной буквы, то ошибку не удастся распознать.\n",
    "\n",
    "Далее вычисляем позицию ошибки. Для этого находим не нулевой столбец в матрице, которую мы получили после декода(номер этого столбца будет являтся номером столбца ошибки) и находим этот же столбец в матрице Н (номер этого столбца будет являться номером строки ошибки). Испраляем бит и декодируем слово."
   ]
  },
  {
   "cell_type": "code",
   "execution_count": null,
   "metadata": {},
   "outputs": [
    {
     "name": "stdout",
     "output_type": "stream",
     "text": [
      "сидр\n"
     ]
    }
   ],
   "source": [
    "error_syndrome = decoding(p)     \n",
    "\n",
    "H = np.array([[1, 1, 0, 1, 1, 0, 0],\n",
    "              [1, 1, 1, 0, 0, 1, 0],\n",
    "              [1, 0, 1, 1, 0, 0, 1]])\n",
    "\n",
    "\n",
    "k = [] #Список с номерами столбцов с ошибками\n",
    "s = [] #Список с ошибками\n",
    "\n",
    "for i in range(5):\n",
    "    if not np.array_equal(np.transpose(error_syndrome)[i], np.array([0, 0, 0])):\n",
    "        k.append(i+1)\n",
    "        s.append(list(np.transpose(error_syndrome)[i]))\n",
    "\n",
    "\n",
    "d = [] #Список с номерами строк с ошибок\n",
    "for j in range(len(s)):\n",
    "    for y in range(7):\n",
    "        if np.array_equal(s[j], np.transpose(H)[y]):\n",
    "            d.append(y-1)\n",
    "\n",
    "\n",
    "for i in range(len(k)):\n",
    "    p[k[i]][d[i]] ^= 1\n",
    "\n",
    "end_word = []        #Превращаем матрицу p в список\n",
    "for i in range(4):\n",
    "    end_word += list(p[i])\n",
    "\n",
    "\n",
    "bin_list_end = [str(i) for i in end_word] # Получаем список, где 1 и 0 являются строками\n",
    "bin_end = ''.join(bin_list_end)\n",
    "\n",
    "last_list = []\n",
    "for i in range(0,20,5):   #Разбиваем строку в список по 5 символов\n",
    "    last_list += [bin_end[i:i+5]]\n",
    "    \n",
    "reversed_alp_code = {value: key for key, value in alp_cod.items()} #Реверсинг словаря, смена ключа и значения\n",
    "\n",
    "word_end_list = [reversed_alp_code[i] for i in last_list]\n",
    "word_end = ''.join(word_end_list)\n",
    "\n",
    "print(word_end)"
   ]
  }
 ],
 "metadata": {
  "kernelspec": {
   "display_name": "Python 3",
   "language": "python",
   "name": "python3"
  },
  "language_info": {
   "codemirror_mode": {
    "name": "ipython",
    "version": 3
   },
   "file_extension": ".py",
   "mimetype": "text/x-python",
   "name": "python",
   "nbconvert_exporter": "python",
   "pygments_lexer": "ipython3",
   "version": "3.12.3"
  }
 },
 "nbformat": 4,
 "nbformat_minor": 2
}
